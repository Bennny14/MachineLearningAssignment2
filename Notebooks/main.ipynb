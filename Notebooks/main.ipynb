{
 "cells": [
  {
   "cell_type": "code",
   "id": "initial_id",
   "metadata": {
    "collapsed": true,
    "ExecuteTime": {
     "end_time": "2025-09-30T09:40:55.209213Z",
     "start_time": "2025-09-30T09:40:55.206892Z"
    }
   },
   "source": [
    "# Dependencies\n",
    "import numpy as np\n",
    "import pandas as pd"
   ],
   "outputs": [],
   "execution_count": 17
  },
  {
   "metadata": {},
   "cell_type": "markdown",
   "source": [
    "# Exercise 1 Data preparation\n",
    "## Q1.1 Load the dataset, inspect feature names and target distribution. Comment on dataset imbalance"
   ],
   "id": "b6049fa3f346cdf9"
  },
  {
   "metadata": {
    "ExecuteTime": {
     "end_time": "2025-09-30T09:40:55.220600Z",
     "start_time": "2025-09-30T09:40:55.214274Z"
    }
   },
   "cell_type": "code",
   "source": [
    "# Q1.1 Loading the dataset and counting how many samples are malignant or benign\n",
    "\n",
    "df = pd.read_csv(\"../Data/data.csv\")\n",
    "\n",
    "y = df.diagnosis\n",
    "\n",
    "unique, counts = np.unique(y, return_counts=True)\n",
    "print(unique, counts, (counts / len(y))*100)"
   ],
   "id": "e183e8872e860631",
   "outputs": [
    {
     "name": "stdout",
     "output_type": "stream",
     "text": [
      "['B' 'M'] [357 212] [62.74165202 37.25834798]\n"
     ]
    }
   ],
   "execution_count": 18
  },
  {
   "metadata": {},
   "cell_type": "markdown",
   "source": "The dataset consists of 30 numeric values of features that describe the characteristics of tumors computed from images of breasts. These include mean values, error estimates and worst-case values, and they have information on the tumor size, shape and texture etc.",
   "id": "26706fd8832b0efc"
  },
  {
   "metadata": {},
   "cell_type": "markdown",
   "source": "The dataset also consists of 569 samples with 30 features each. The target variable is whether the tumor is malignant or benign, where 63% of the dataset is benign and 37% is malignant. This means there is a slight imbalance towards the benign class, which should be considered when evaluating model performance.",
   "id": "a991c7080696cc0a"
  }
 ],
 "metadata": {
  "kernelspec": {
   "display_name": "Python 3",
   "language": "python",
   "name": "python3"
  },
  "language_info": {
   "codemirror_mode": {
    "name": "ipython",
    "version": 2
   },
   "file_extension": ".py",
   "mimetype": "text/x-python",
   "name": "python",
   "nbconvert_exporter": "python",
   "pygments_lexer": "ipython2",
   "version": "2.7.6"
  }
 },
 "nbformat": 4,
 "nbformat_minor": 5
}
