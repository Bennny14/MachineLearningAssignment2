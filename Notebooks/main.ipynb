{
 "cells": [
  {
   "cell_type": "code",
   "id": "initial_id",
   "metadata": {
    "collapsed": true,
    "ExecuteTime": {
     "end_time": "2025-09-30T09:22:53.474112Z",
     "start_time": "2025-09-30T09:22:53.110570Z"
    }
   },
   "source": "import pandas as pd",
   "outputs": [],
   "execution_count": 2
  },
  {
   "metadata": {},
   "cell_type": "markdown",
   "source": [
    "# Exercise 1 Data preparation\n",
    "## Q1.1 Load the dataset, inspect feature names and target distribution. Comment on dataset imbalance"
   ],
   "id": "b6049fa3f346cdf9"
  },
  {
   "metadata": {
    "ExecuteTime": {
     "end_time": "2025-09-30T09:22:53.488832Z",
     "start_time": "2025-09-30T09:22:53.480371Z"
    }
   },
   "cell_type": "code",
   "source": [
    "# Q1.1 Loading the dataset\n",
    "\n",
    "df = pd.read_csv(\"../Data/data.csv\")\n",
    "\n"
   ],
   "id": "e183e8872e860631",
   "outputs": [],
   "execution_count": 3
  }
 ],
 "metadata": {
  "kernelspec": {
   "display_name": "Python 3",
   "language": "python",
   "name": "python3"
  },
  "language_info": {
   "codemirror_mode": {
    "name": "ipython",
    "version": 2
   },
   "file_extension": ".py",
   "mimetype": "text/x-python",
   "name": "python",
   "nbconvert_exporter": "python",
   "pygments_lexer": "ipython2",
   "version": "2.7.6"
  }
 },
 "nbformat": 4,
 "nbformat_minor": 5
}
